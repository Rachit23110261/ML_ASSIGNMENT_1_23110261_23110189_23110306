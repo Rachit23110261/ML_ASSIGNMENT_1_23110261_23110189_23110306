{
  "cells": [
    {
      "cell_type": "markdown",
      "metadata": {
        "id": "view-in-github",
        "colab_type": "text"
      },
      "source": [
        "<a href=\"https://colab.research.google.com/github/Rachit23110261/ML_ASSIGNMENT_1_23110261_23110189_23110306/blob/main/ML_Assignment_1_Preprocessing_task_4.ipynb\" target=\"_parent\"><img src=\"https://colab.research.google.com/assets/colab-badge.svg\" alt=\"Open In Colab\"/></a>"
      ]
    },
    {
      "cell_type": "code",
      "execution_count": null,
      "metadata": {
        "id": "u4KldzeX_m5L"
      },
      "outputs": [],
      "source": [
        "import pandas as pd\n",
        "import numpy as np"
      ]
    },
    {
      "cell_type": "code",
      "execution_count": null,
      "metadata": {
        "colab": {
          "base_uri": "https://localhost:8080/"
        },
        "id": "MFF3r4TBA_hR",
        "outputId": "e279754b-1661-4071-cc04-1c166339dc53"
      },
      "outputs": [
        {
          "output_type": "stream",
          "name": "stdout",
          "text": [
            "Mounted at /content/drive\n"
          ]
        }
      ],
      "source": [
        "from google.colab import drive\n",
        "drive.mount('/content/drive')"
      ]
    },
    {
      "cell_type": "code",
      "execution_count": null,
      "metadata": {
        "id": "1nTbFlJnHd6r"
      },
      "outputs": [],
      "source": [
        "# 5 5 13 rachit walking.csv"
      ]
    },
    {
      "cell_type": "code",
      "execution_count": null,
      "metadata": {
        "id": "tlYAkfrjCNsz",
        "colab": {
          "base_uri": "https://localhost:8080/",
          "height": 373
        },
        "outputId": "21ce7039-f1a4-47a4-960c-48eb5cf00fb1"
      },
      "outputs": [
        {
          "output_type": "error",
          "ename": "FileNotFoundError",
          "evalue": "[Errno 2] No such file or directory: '/content/drive/MyDrive/ML/KP/2 4 akash kp sitting.csv'",
          "traceback": [
            "\u001b[0;31m---------------------------------------------------------------------------\u001b[0m",
            "\u001b[0;31mFileNotFoundError\u001b[0m                         Traceback (most recent call last)",
            "\u001b[0;32m<ipython-input-4-e8022b630f76>\u001b[0m in \u001b[0;36m<cell line: 1>\u001b[0;34m()\u001b[0m\n\u001b[0;32m----> 1\u001b[0;31m \u001b[0msitting_kp\u001b[0m\u001b[0;34m=\u001b[0m\u001b[0mpd\u001b[0m\u001b[0;34m.\u001b[0m\u001b[0mread_csv\u001b[0m\u001b[0;34m(\u001b[0m\u001b[0;34m'/content/drive/MyDrive/ML/KP/2 4 akash kp sitting.csv'\u001b[0m\u001b[0;34m)\u001b[0m\u001b[0;34m\u001b[0m\u001b[0;34m\u001b[0m\u001b[0m\n\u001b[0m\u001b[1;32m      2\u001b[0m \u001b[0mgoing_down_kp\u001b[0m\u001b[0;34m=\u001b[0m\u001b[0mpd\u001b[0m\u001b[0;34m.\u001b[0m\u001b[0mread_csv\u001b[0m\u001b[0;34m(\u001b[0m\u001b[0;34m'/content/drive/MyDrive/ML/KP/4 KP going downstairs.csv'\u001b[0m\u001b[0;34m)\u001b[0m\u001b[0;34m\u001b[0m\u001b[0;34m\u001b[0m\u001b[0m\n\u001b[1;32m      3\u001b[0m \u001b[0mgoing_up_kp\u001b[0m\u001b[0;34m=\u001b[0m\u001b[0mpd\u001b[0m\u001b[0;34m.\u001b[0m\u001b[0mread_csv\u001b[0m\u001b[0;34m(\u001b[0m\u001b[0;34m'/content/drive/MyDrive/ML/KP/5 KP Going up.csv'\u001b[0m\u001b[0;34m)\u001b[0m\u001b[0;34m\u001b[0m\u001b[0;34m\u001b[0m\u001b[0m\n\u001b[1;32m      4\u001b[0m \u001b[0msleeping_kp\u001b[0m\u001b[0;34m=\u001b[0m\u001b[0mpd\u001b[0m\u001b[0;34m.\u001b[0m\u001b[0mread_csv\u001b[0m\u001b[0;34m(\u001b[0m\u001b[0;34m'/content/drive/MyDrive/ML/KP/5 5  akash kp laying.csv'\u001b[0m\u001b[0;34m)\u001b[0m\u001b[0;34m\u001b[0m\u001b[0;34m\u001b[0m\u001b[0m\n\u001b[1;32m      5\u001b[0m \u001b[0mstanding_kp\u001b[0m\u001b[0;34m=\u001b[0m\u001b[0mpd\u001b[0m\u001b[0;34m.\u001b[0m\u001b[0mread_csv\u001b[0m\u001b[0;34m(\u001b[0m\u001b[0;34m'/content/drive/MyDrive/ML/KP/3 5 akash kp standing.csv'\u001b[0m\u001b[0;34m)\u001b[0m\u001b[0;34m\u001b[0m\u001b[0;34m\u001b[0m\u001b[0m\n",
            "\u001b[0;32m/usr/local/lib/python3.10/dist-packages/pandas/io/parsers/readers.py\u001b[0m in \u001b[0;36mread_csv\u001b[0;34m(filepath_or_buffer, sep, delimiter, header, names, index_col, usecols, dtype, engine, converters, true_values, false_values, skipinitialspace, skiprows, skipfooter, nrows, na_values, keep_default_na, na_filter, verbose, skip_blank_lines, parse_dates, infer_datetime_format, keep_date_col, date_parser, date_format, dayfirst, cache_dates, iterator, chunksize, compression, thousands, decimal, lineterminator, quotechar, quoting, doublequote, escapechar, comment, encoding, encoding_errors, dialect, on_bad_lines, delim_whitespace, low_memory, memory_map, float_precision, storage_options, dtype_backend)\u001b[0m\n\u001b[1;32m    946\u001b[0m     \u001b[0mkwds\u001b[0m\u001b[0;34m.\u001b[0m\u001b[0mupdate\u001b[0m\u001b[0;34m(\u001b[0m\u001b[0mkwds_defaults\u001b[0m\u001b[0;34m)\u001b[0m\u001b[0;34m\u001b[0m\u001b[0;34m\u001b[0m\u001b[0m\n\u001b[1;32m    947\u001b[0m \u001b[0;34m\u001b[0m\u001b[0m\n\u001b[0;32m--> 948\u001b[0;31m     \u001b[0;32mreturn\u001b[0m \u001b[0m_read\u001b[0m\u001b[0;34m(\u001b[0m\u001b[0mfilepath_or_buffer\u001b[0m\u001b[0;34m,\u001b[0m \u001b[0mkwds\u001b[0m\u001b[0;34m)\u001b[0m\u001b[0;34m\u001b[0m\u001b[0;34m\u001b[0m\u001b[0m\n\u001b[0m\u001b[1;32m    949\u001b[0m \u001b[0;34m\u001b[0m\u001b[0m\n\u001b[1;32m    950\u001b[0m \u001b[0;34m\u001b[0m\u001b[0m\n",
            "\u001b[0;32m/usr/local/lib/python3.10/dist-packages/pandas/io/parsers/readers.py\u001b[0m in \u001b[0;36m_read\u001b[0;34m(filepath_or_buffer, kwds)\u001b[0m\n\u001b[1;32m    609\u001b[0m \u001b[0;34m\u001b[0m\u001b[0m\n\u001b[1;32m    610\u001b[0m     \u001b[0;31m# Create the parser.\u001b[0m\u001b[0;34m\u001b[0m\u001b[0;34m\u001b[0m\u001b[0m\n\u001b[0;32m--> 611\u001b[0;31m     \u001b[0mparser\u001b[0m \u001b[0;34m=\u001b[0m \u001b[0mTextFileReader\u001b[0m\u001b[0;34m(\u001b[0m\u001b[0mfilepath_or_buffer\u001b[0m\u001b[0;34m,\u001b[0m \u001b[0;34m**\u001b[0m\u001b[0mkwds\u001b[0m\u001b[0;34m)\u001b[0m\u001b[0;34m\u001b[0m\u001b[0;34m\u001b[0m\u001b[0m\n\u001b[0m\u001b[1;32m    612\u001b[0m \u001b[0;34m\u001b[0m\u001b[0m\n\u001b[1;32m    613\u001b[0m     \u001b[0;32mif\u001b[0m \u001b[0mchunksize\u001b[0m \u001b[0;32mor\u001b[0m \u001b[0miterator\u001b[0m\u001b[0;34m:\u001b[0m\u001b[0;34m\u001b[0m\u001b[0;34m\u001b[0m\u001b[0m\n",
            "\u001b[0;32m/usr/local/lib/python3.10/dist-packages/pandas/io/parsers/readers.py\u001b[0m in \u001b[0;36m__init__\u001b[0;34m(self, f, engine, **kwds)\u001b[0m\n\u001b[1;32m   1446\u001b[0m \u001b[0;34m\u001b[0m\u001b[0m\n\u001b[1;32m   1447\u001b[0m         \u001b[0mself\u001b[0m\u001b[0;34m.\u001b[0m\u001b[0mhandles\u001b[0m\u001b[0;34m:\u001b[0m \u001b[0mIOHandles\u001b[0m \u001b[0;34m|\u001b[0m \u001b[0;32mNone\u001b[0m \u001b[0;34m=\u001b[0m \u001b[0;32mNone\u001b[0m\u001b[0;34m\u001b[0m\u001b[0;34m\u001b[0m\u001b[0m\n\u001b[0;32m-> 1448\u001b[0;31m         \u001b[0mself\u001b[0m\u001b[0;34m.\u001b[0m\u001b[0m_engine\u001b[0m \u001b[0;34m=\u001b[0m \u001b[0mself\u001b[0m\u001b[0;34m.\u001b[0m\u001b[0m_make_engine\u001b[0m\u001b[0;34m(\u001b[0m\u001b[0mf\u001b[0m\u001b[0;34m,\u001b[0m \u001b[0mself\u001b[0m\u001b[0;34m.\u001b[0m\u001b[0mengine\u001b[0m\u001b[0;34m)\u001b[0m\u001b[0;34m\u001b[0m\u001b[0;34m\u001b[0m\u001b[0m\n\u001b[0m\u001b[1;32m   1449\u001b[0m \u001b[0;34m\u001b[0m\u001b[0m\n\u001b[1;32m   1450\u001b[0m     \u001b[0;32mdef\u001b[0m \u001b[0mclose\u001b[0m\u001b[0;34m(\u001b[0m\u001b[0mself\u001b[0m\u001b[0;34m)\u001b[0m \u001b[0;34m->\u001b[0m \u001b[0;32mNone\u001b[0m\u001b[0;34m:\u001b[0m\u001b[0;34m\u001b[0m\u001b[0;34m\u001b[0m\u001b[0m\n",
            "\u001b[0;32m/usr/local/lib/python3.10/dist-packages/pandas/io/parsers/readers.py\u001b[0m in \u001b[0;36m_make_engine\u001b[0;34m(self, f, engine)\u001b[0m\n\u001b[1;32m   1703\u001b[0m                 \u001b[0;32mif\u001b[0m \u001b[0;34m\"b\"\u001b[0m \u001b[0;32mnot\u001b[0m \u001b[0;32min\u001b[0m \u001b[0mmode\u001b[0m\u001b[0;34m:\u001b[0m\u001b[0;34m\u001b[0m\u001b[0;34m\u001b[0m\u001b[0m\n\u001b[1;32m   1704\u001b[0m                     \u001b[0mmode\u001b[0m \u001b[0;34m+=\u001b[0m \u001b[0;34m\"b\"\u001b[0m\u001b[0;34m\u001b[0m\u001b[0;34m\u001b[0m\u001b[0m\n\u001b[0;32m-> 1705\u001b[0;31m             self.handles = get_handle(\n\u001b[0m\u001b[1;32m   1706\u001b[0m                 \u001b[0mf\u001b[0m\u001b[0;34m,\u001b[0m\u001b[0;34m\u001b[0m\u001b[0;34m\u001b[0m\u001b[0m\n\u001b[1;32m   1707\u001b[0m                 \u001b[0mmode\u001b[0m\u001b[0;34m,\u001b[0m\u001b[0;34m\u001b[0m\u001b[0;34m\u001b[0m\u001b[0m\n",
            "\u001b[0;32m/usr/local/lib/python3.10/dist-packages/pandas/io/common.py\u001b[0m in \u001b[0;36mget_handle\u001b[0;34m(path_or_buf, mode, encoding, compression, memory_map, is_text, errors, storage_options)\u001b[0m\n\u001b[1;32m    861\u001b[0m         \u001b[0;32mif\u001b[0m \u001b[0mioargs\u001b[0m\u001b[0;34m.\u001b[0m\u001b[0mencoding\u001b[0m \u001b[0;32mand\u001b[0m \u001b[0;34m\"b\"\u001b[0m \u001b[0;32mnot\u001b[0m \u001b[0;32min\u001b[0m \u001b[0mioargs\u001b[0m\u001b[0;34m.\u001b[0m\u001b[0mmode\u001b[0m\u001b[0;34m:\u001b[0m\u001b[0;34m\u001b[0m\u001b[0;34m\u001b[0m\u001b[0m\n\u001b[1;32m    862\u001b[0m             \u001b[0;31m# Encoding\u001b[0m\u001b[0;34m\u001b[0m\u001b[0;34m\u001b[0m\u001b[0m\n\u001b[0;32m--> 863\u001b[0;31m             handle = open(\n\u001b[0m\u001b[1;32m    864\u001b[0m                 \u001b[0mhandle\u001b[0m\u001b[0;34m,\u001b[0m\u001b[0;34m\u001b[0m\u001b[0;34m\u001b[0m\u001b[0m\n\u001b[1;32m    865\u001b[0m                 \u001b[0mioargs\u001b[0m\u001b[0;34m.\u001b[0m\u001b[0mmode\u001b[0m\u001b[0;34m,\u001b[0m\u001b[0;34m\u001b[0m\u001b[0;34m\u001b[0m\u001b[0m\n",
            "\u001b[0;31mFileNotFoundError\u001b[0m: [Errno 2] No such file or directory: '/content/drive/MyDrive/ML/KP/2 4 akash kp sitting.csv'"
          ]
        }
      ],
      "source": [
        "sitting_kp=pd.read_csv('/content/drive/MyDrive/ML/KP/2 4 akash kp sitting.csv')\n",
        "going_down_kp=pd.read_csv('/content/drive/MyDrive/ML/KP/4 KP going downstairs.csv')\n",
        "going_up_kp=pd.read_csv('/content/drive/MyDrive/ML/KP/5 KP Going up.csv')\n",
        "sleeping_kp=pd.read_csv('/content/drive/MyDrive/ML/KP/5 5  akash kp laying.csv')\n",
        "standing_kp=pd.read_csv('/content/drive/MyDrive/ML/KP/3 5 akash kp standing.csv')\n",
        "walking_kp=pd.read_csv('/content/drive/MyDrive/ML/KP/3 KP WALKING.csv')"
      ]
    },
    {
      "cell_type": "code",
      "execution_count": null,
      "metadata": {
        "id": "qsja_uzoP4As"
      },
      "outputs": [],
      "source": [
        "sitting_rachit=pd.read_csv('/content/drive/MyDrive/ML/Rachit/5.5  11 rachit sitting .csv')\n",
        "going_down_rachit=pd.read_csv('/content/drive/MyDrive/ML/Rachit/5 rachit downstairs .csv')\n",
        "going_up_rachit=pd.read_csv('/content/drive/MyDrive/ML/Rachit/5 rachit upstairs .csv')\n",
        "sleeping_rachit=pd.read_csv('/content/drive/MyDrive/ML/Rachit/6 6 rachit laying.csv')\n",
        "standing_rachit=pd.read_csv('/content/drive/MyDrive/ML/Rachit/Rachit 5 standing.csv')\n",
        "walking_rachit=pd.read_csv('/content/drive/MyDrive/ML/Rachit/rachit walking.csv')"
      ]
    },
    {
      "cell_type": "code",
      "execution_count": null,
      "metadata": {
        "id": "MV9xPDCfjJtz"
      },
      "outputs": [],
      "source": [
        "sitting_luv=pd.read_csv('/content/drive/MyDrive/ML/Luv/luv_sitting.csv')\n",
        "going_down_luv=pd.read_csv('/content/drive/MyDrive/ML/Luv/luv_going_down.csv')\n",
        "going_up_luv=pd.read_csv('/content/drive/MyDrive/ML/Luv/luv_going_up.csv')\n",
        "sleeping_luv=pd.read_csv('/content/drive/MyDrive/ML/Luv/luv_sleeping.csv')\n",
        "standing_luv=pd.read_csv('/content/drive/MyDrive/ML/Luv/luv_standing.csv')\n",
        "walking_luv=pd.read_csv('/content/drive/MyDrive/ML/Luv/luv_walking.csv')"
      ]
    },
    {
      "cell_type": "code",
      "execution_count": null,
      "metadata": {
        "id": "GYJ9Zc1lDFRk"
      },
      "outputs": [],
      "source": [
        "l=[sitting_rachit,going_down_rachit,going_up_rachit,sleeping_rachit,standing_rachit,walking_rachit,\n",
        "   sitting_kp,going_down_kp,going_up_kp,sleeping_kp,standing_kp,walking_kp,\n",
        "   sitting_luv,going_down_luv,going_up_luv,sleeping_luv,standing_luv,walking_luv]\n",
        "l_samples=[]\n",
        "\n",
        "l_filtered=[]"
      ]
    },
    {
      "cell_type": "code",
      "execution_count": null,
      "metadata": {
        "id": "rclH1nxqPjYx"
      },
      "outputs": [],
      "source": [
        "for k in l:\n",
        "  print(len(k))"
      ]
    },
    {
      "cell_type": "code",
      "execution_count": null,
      "metadata": {
        "id": "QXZyGAnbPgM9"
      },
      "outputs": [],
      "source": [
        "l_str=['sitting_rachit','going_down_rachit','going_up_rachit','sleeping_rachit','standing_rachit','walking_rachit',\n",
        "   'sitting_kp','going_down_kp','going_up_kp','sleeping_kp','standing_kp','walking_kp',\n",
        "   'sitting_luv','going_down_luv','going_up_luv','sleeping_luv','standing_luv','walking_luv']"
      ]
    },
    {
      "cell_type": "code",
      "execution_count": null,
      "metadata": {
        "id": "v8WdCHrRDeay"
      },
      "outputs": [],
      "source": [
        "# def index_5_seconds(df):\n",
        "#   for i in range(len(df)):\n",
        "#     if df.loc[i,'time']>=5:\n",
        "#       return i\n",
        "#       break\n",
        "# def reduce_frequency(df,i,freq_given,freq_req):\n",
        "#   # k=freq_req\n",
        "#   l=[]\n",
        "#   for j in range(i,len(df)):\n",
        "#     if len(l)==500:\n",
        "#       break\n",
        "#     else:\n",
        "#       l.append(j)\n",
        "#   return l\n",
        "\n",
        "# for a in l:\n",
        "#  start_5=index_5_seconds(a)\n",
        "#  l_samples.append(reduce_frequency(a,start_5,500,50))"
      ]
    },
    {
      "cell_type": "code",
      "execution_count": null,
      "metadata": {
        "id": "ZmVmPp_RIjB7"
      },
      "outputs": [],
      "source": [
        "# for i in range(len(l)):\n",
        "#   l_filtered.append(pd.DataFrame(l[i].iloc[400:900,[1,2,3]]))\n"
      ]
    },
    {
      "cell_type": "code",
      "execution_count": null,
      "metadata": {
        "id": "STcdYwfaBr47"
      },
      "outputs": [],
      "source": [
        "# l_filtered[0].shape"
      ]
    },
    {
      "cell_type": "code",
      "execution_count": null,
      "metadata": {
        "id": "iZyM70y0XP-m"
      },
      "outputs": [],
      "source": [
        "l_filtered=[\n",
        "  l[0].iloc[500:1000,[1,2,3]],\n",
        "  l[1].iloc[400:900,[1,2,3]],\n",
        "  l[2].iloc[300:800,[1,2,3]],\n",
        "  l[3].iloc[600:1100,[1,2,3]],\n",
        "  l[4].iloc[300:800,[1,2,3]],\n",
        "  l[5].iloc[371:371+500,[1,2,3]],\n",
        "  l[6].iloc[400:400+500,[1,2,3]],\n",
        "  l[7].iloc[250:750,[1,2,3]],\n",
        "  l[8].iloc[300:800,[1,2,3]],\n",
        "  l[9].iloc[370:370+500,[1,2,3]],\n",
        "  l[10].iloc[300:800,[1,2,3]],\n",
        "  l[11].iloc[250:250+500,[1,2,3]],\n",
        "  l[12].iloc[400:900,[1,2,3]],\n",
        "  l[13].iloc[300:800,[1,2,3]],\n",
        "  l[14].iloc[180:180+500,[1,2,3]],\n",
        "  l[15].iloc[450:450+500,[1,2,3]],\n",
        "  l[16].iloc[300:800,[1,2,3]],\n",
        "  l[17].iloc[380:380+500,[1,2,3]]\n",
        "            ]"
      ]
    },
    {
      "cell_type": "markdown",
      "metadata": {
        "id": "1MppasmK_Zux"
      },
      "source": [
        "Converting the dataframe into 18,1500 shape"
      ]
    },
    {
      "cell_type": "code",
      "execution_count": null,
      "metadata": {
        "id": "Yyxz68tS6sbR"
      },
      "outputs": [],
      "source": [
        "for i in range(len(l)):\n",
        "  # Example DataFrame of shape (500, 3)\n",
        "# Example DataFrame of shape (500, 3)\n",
        "  df = l_filtered[i]\n",
        "\n",
        "  # Reshape the DataFrame to (1, 1500)\n",
        "  l_filtered[i] = pd.DataFrame(df.values.flatten()).T\n",
        "\n",
        "  # Output the new DataFrame of shape (1, 1500)\n",
        "\n",
        "\n"
      ]
    },
    {
      "cell_type": "code",
      "execution_count": null,
      "metadata": {
        "id": "Xmxtc7Eg7B5D"
      },
      "outputs": [],
      "source": [
        "final_data=pd.concat(l_filtered[:],axis=0)\n"
      ]
    },
    {
      "cell_type": "code",
      "execution_count": null,
      "metadata": {
        "id": "3Hd2drIN8LpC"
      },
      "outputs": [],
      "source": [
        "final_data.to_excel('/content/drive/MyDrive/ML/wild_data_readings.xlsx',index=False)"
      ]
    },
    {
      "cell_type": "code",
      "execution_count": null,
      "metadata": {
        "id": "alDxacaZ88pp"
      },
      "outputs": [],
      "source": [
        "labels=[4,3,2,6,5,1,4,3,2,6,5,1,4,3,2,6,5,1]"
      ]
    },
    {
      "cell_type": "code",
      "execution_count": null,
      "metadata": {
        "id": "NgBfq9Ij9HIr"
      },
      "outputs": [],
      "source": [
        "labels=pd.DataFrame(labels)"
      ]
    },
    {
      "cell_type": "code",
      "execution_count": null,
      "metadata": {
        "id": "Ieba13yP9mHw"
      },
      "outputs": [],
      "source": [
        "labels.to_excel('/content/drive/MyDrive/ML/labels.xlsx',index=False)"
      ]
    },
    {
      "cell_type": "markdown",
      "metadata": {
        "id": "RIDImpl__Rze"
      },
      "source": [
        "Converting the dataframe into 18*500 rows and 3 columns before this you have to run previous code till converting to 18*1500 code"
      ]
    },
    {
      "cell_type": "code",
      "execution_count": null,
      "metadata": {
        "id": "NlpCmSs-Dz5T"
      },
      "outputs": [],
      "source": [
        "label1=[]"
      ]
    },
    {
      "cell_type": "code",
      "execution_count": null,
      "metadata": {
        "id": "iU0cHuGUDmbL"
      },
      "outputs": [],
      "source": [
        "for i in range(len(labels)):\n",
        "  label1.append(labels.loc[i,0])"
      ]
    },
    {
      "cell_type": "code",
      "execution_count": null,
      "metadata": {
        "id": "tCZaE4A3DqyC"
      },
      "outputs": [],
      "source": [
        "label1"
      ]
    },
    {
      "cell_type": "code",
      "execution_count": null,
      "metadata": {
        "id": "yADQOPy4-01s"
      },
      "outputs": [],
      "source": [
        "wild_data_=pd.concat(l_filtered[:],axis=0)"
      ]
    },
    {
      "cell_type": "code",
      "execution_count": null,
      "metadata": {
        "id": "5d_jRlLyFFav"
      },
      "outputs": [],
      "source": [
        "wild_data_.rename(columns={'gFx':'SensorData accX','gFy':'SensorData accY','gFz':'SensorData accZ'})"
      ]
    },
    {
      "cell_type": "code",
      "execution_count": null,
      "metadata": {
        "id": "-ZMV2JBCBnwI"
      },
      "outputs": [],
      "source": [
        "wild_data_.to_excel('/content/drive/MyDrive/ML/wild_data_readings_9000_3.xlsx',index=False)"
      ]
    },
    {
      "cell_type": "code",
      "execution_count": null,
      "metadata": {
        "id": "goX0aRheEMow"
      },
      "outputs": [],
      "source": [
        "labels_=[]"
      ]
    },
    {
      "cell_type": "code",
      "execution_count": null,
      "metadata": {
        "id": "kZVxM9tJCNAC"
      },
      "outputs": [],
      "source": [
        "for j in range(len(labels)):\n",
        "  for i in range(500):\n",
        "     labels_.append(label1[j])"
      ]
    },
    {
      "cell_type": "code",
      "execution_count": null,
      "metadata": {
        "id": "CLKJ8Lb-EP0L"
      },
      "outputs": [],
      "source": [
        "df_labels=pd.DataFrame(labels_,columns=['Activity'])"
      ]
    },
    {
      "cell_type": "code",
      "execution_count": null,
      "metadata": {
        "id": "6WQGbnl-C1e5"
      },
      "outputs": [],
      "source": [
        "df_labels"
      ]
    },
    {
      "cell_type": "code",
      "execution_count": null,
      "metadata": {
        "id": "mwGNxzbNFqfR"
      },
      "outputs": [],
      "source": [
        "df_labels.reset_index(drop=True,inplace=True)\n",
        "wild_data_.reset_index(drop=True,inplace=True)\n"
      ]
    },
    {
      "cell_type": "code",
      "execution_count": null,
      "metadata": {
        "id": "STXx-5WKHA0N"
      },
      "outputs": [],
      "source": [
        "wild_data_with_labels=pd.concat([df_labels,wild_data_],axis=1)"
      ]
    },
    {
      "cell_type": "code",
      "execution_count": null,
      "metadata": {
        "id": "Dd7zC_SvHg8h"
      },
      "outputs": [],
      "source": [
        "wild_data_with_labels.head(0)"
      ]
    },
    {
      "cell_type": "code",
      "execution_count": null,
      "metadata": {
        "collapsed": true,
        "id": "0cY3o2JcHUHZ"
      },
      "outputs": [],
      "source": [
        "!pip install tsfel"
      ]
    },
    {
      "cell_type": "code",
      "execution_count": null,
      "metadata": {
        "id": "hG9E2reoHIkn"
      },
      "outputs": [],
      "source": [
        "import tsfel\n",
        "import pandas as pd\n",
        "cfg = tsfel.get_features_by_domain()\n",
        "wild_data_with_tsfel = tsfel.time_series_features_extractor(cfg,wild_data_with_labels[[\"gFx\",\"gFy\",\"gFz\"]],fs = 50,window_size=500)"
      ]
    },
    {
      "cell_type": "code",
      "execution_count": null,
      "metadata": {
        "id": "5DqNyzVQHuLZ"
      },
      "outputs": [],
      "source": [
        "wild_data_with_tsfel.to_excel('/content/drive/MyDrive/ML/wild_data_tsfel.xlsx',index=False)"
      ]
    },
    {
      "cell_type": "code",
      "execution_count": null,
      "metadata": {
        "id": "EklkDM2pKnpM"
      },
      "outputs": [],
      "source": [
        "wild_data_with_tsfel"
      ]
    },
    {
      "cell_type": "code",
      "execution_count": null,
      "metadata": {
        "collapsed": true,
        "id": "Lzm1_3J6Lpzl"
      },
      "outputs": [],
      "source": [
        "for i in range(len(l_filtered)):\n",
        "  l[i].iloc[:,[1,2,3]].plot()\n",
        "  plt.title(l_str[i])\n"
      ]
    },
    {
      "cell_type": "code",
      "execution_count": null,
      "metadata": {
        "id": "PeEVE9_tTzEm"
      },
      "outputs": [],
      "source": [
        "import matplotlib.pyplot as plt"
      ]
    },
    {
      "cell_type": "code",
      "execution_count": null,
      "metadata": {
        "id": "_ysp5me8LKIu"
      },
      "outputs": [],
      "source": [
        "for i in range(len(l_filtered)):\n",
        "  l_filtered[i].plot()\n",
        "  plt.title(l_str[i])"
      ]
    },
    {
      "cell_type": "code",
      "execution_count": null,
      "metadata": {
        "id": "JlDMFhkxQ9ri"
      },
      "outputs": [],
      "source": []
    }
  ],
  "metadata": {
    "colab": {
      "provenance": [],
      "include_colab_link": true
    },
    "kernelspec": {
      "display_name": "Python 3",
      "name": "python3"
    },
    "language_info": {
      "name": "python"
    }
  },
  "nbformat": 4,
  "nbformat_minor": 0
}